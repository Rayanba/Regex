{
 "cells": [
  {
   "cell_type": "code",
   "execution_count": 1,
   "id": "f10b3cc8",
   "metadata": {},
   "outputs": [],
   "source": [
    "import re"
   ]
  },
  {
   "cell_type": "markdown",
   "id": "29ff2922",
   "metadata": {},
   "source": [
    "# 1- re.match()\n",
    "Checks for a match only at the beginning of the string."
   ]
  },
  {
   "cell_type": "code",
   "execution_count": 2,
   "id": "51ed6439",
   "metadata": {},
   "outputs": [],
   "source": [
    "textIs = \"Hello Every One\""
   ]
  },
  {
   "cell_type": "code",
   "execution_count": 3,
   "id": "626ba336",
   "metadata": {
    "scrolled": true
   },
   "outputs": [
    {
     "name": "stdout",
     "output_type": "stream",
     "text": [
      "<re.Match object; span=(0, 5), match='Hello'>\n",
      "(0, 5)\n",
      "0\n",
      "5\n",
      "Hello\n"
     ]
    }
   ],
   "source": [
    "isFirst = re.match(r'[A-Z][a-z]+', textIs)\n",
    "print(isFirst)\n",
    "print(isFirst.span())\n",
    "print(isFirst.start())\n",
    "print(isFirst.end())\n",
    "print(isFirst.group())"
   ]
  },
  {
   "cell_type": "code",
   "execution_count": 4,
   "id": "049fdb07",
   "metadata": {},
   "outputs": [],
   "source": [
    "listIs = [\"Tuwaiq Bootcamp\", \"Time Boost\", \"Tomorrow Land\", \"Tiwan made\", \" Time's Up\"]"
   ]
  },
  {
   "cell_type": "code",
   "execution_count": 5,
   "id": "f2c819fc",
   "metadata": {},
   "outputs": [
    {
     "name": "stdout",
     "output_type": "stream",
     "text": [
      "Tuwaiq Bootcamp\n",
      "Time Boost\n",
      "Tomorrow Land\n"
     ]
    }
   ],
   "source": [
    "for i in listIs:\n",
    "    find = re.match(r'[A-Z][a-z]+\\s[A-Z][a-z]+',i)\n",
    "    if find:\n",
    "        print(find.group())"
   ]
  },
  {
   "cell_type": "code",
   "execution_count": 6,
   "id": "90909a25",
   "metadata": {},
   "outputs": [
    {
     "name": "stdout",
     "output_type": "stream",
     "text": [
      "Tuwaiq Bootcamp\n",
      "Time Boost\n"
     ]
    }
   ],
   "source": [
    "for i in listIs:\n",
    "    find = re.match('T[a-z]+\\sB[a-z]+',i)\n",
    "    if find:\n",
    "        print(find.group())"
   ]
  },
  {
   "cell_type": "code",
   "execution_count": 7,
   "id": "f53d70f8",
   "metadata": {},
   "outputs": [
    {
     "name": "stdout",
     "output_type": "stream",
     "text": [
      "Tuwaiq\n",
      "Time\n",
      "Tomorrow\n",
      "Tiwan\n"
     ]
    }
   ],
   "source": [
    "for i in listIs:\n",
    "    find = re.match(r'T[a-z]+',i)\n",
    "    if find:\n",
    "        print(find.group())"
   ]
  },
  {
   "cell_type": "code",
   "execution_count": 8,
   "id": "26de488e",
   "metadata": {},
   "outputs": [
    {
     "name": "stdout",
     "output_type": "stream",
     "text": [
      "Tiwan made\n"
     ]
    }
   ],
   "source": [
    "for i in listIs:\n",
    "    find = re.match(r'[A-Z][a-z]+\\s[a-z]+',i)\n",
    "    if find:\n",
    "        print(find.group())"
   ]
  },
  {
   "cell_type": "code",
   "execution_count": 9,
   "id": "0bfc2bc3",
   "metadata": {},
   "outputs": [],
   "source": [
    "for i in listIs:\n",
    "    find = re.match(r'\\s[A-Z][a-z]+\\s[A-Z][a-z]+',i)\n",
    "    if find:\n",
    "        print(find.group())"
   ]
  },
  {
   "cell_type": "markdown",
   "id": "5fc4e338",
   "metadata": {},
   "source": [
    "# 2- re.search()\n",
    "Search the regular expression pattern and return the first occurrence."
   ]
  },
  {
   "cell_type": "code",
   "execution_count": 10,
   "id": "f0d27bb4",
   "metadata": {},
   "outputs": [],
   "source": [
    "wordIs = \"Tuwaiq bootcamp 2030 #$@%\""
   ]
  },
  {
   "cell_type": "code",
   "execution_count": 11,
   "id": "4b1bcaa6",
   "metadata": {
    "scrolled": false
   },
   "outputs": [
    {
     "name": "stdout",
     "output_type": "stream",
     "text": [
      "<re.Match object; span=(6, 15), match=' bootcamp'>\n",
      " bootcamp\n"
     ]
    }
   ],
   "source": [
    "word1 = re.search (r'\\s[A-z]+', wordIs)\n",
    "print(word1)\n",
    "print(word1.group())"
   ]
  },
  {
   "cell_type": "code",
   "execution_count": 12,
   "id": "d7f4efcf",
   "metadata": {},
   "outputs": [
    {
     "name": "stdout",
     "output_type": "stream",
     "text": [
      "<re.Match object; span=(16, 20), match='2030'>\n",
      "2030\n"
     ]
    }
   ],
   "source": [
    "word1 = re.search (r'\\d+', wordIs)\n",
    "print(word1)\n",
    "print(word1.group())"
   ]
  },
  {
   "cell_type": "code",
   "execution_count": 13,
   "id": "554b10e9",
   "metadata": {
    "scrolled": true
   },
   "outputs": [
    {
     "name": "stdout",
     "output_type": "stream",
     "text": [
      "Tuwaiq bootcamp\n"
     ]
    }
   ],
   "source": [
    "word2 = re.search(r'[A-z]+\\s[A-z]+', wordIs)\n",
    "print(word2.group())"
   ]
  },
  {
   "cell_type": "code",
   "execution_count": 14,
   "id": "a0bab24c",
   "metadata": {},
   "outputs": [
    {
     "name": "stdout",
     "output_type": "stream",
     "text": [
      "Tuwaiq bootcamp 2030 #$@%\n"
     ]
    }
   ],
   "source": [
    "word3 = re.search(r'[A-z]+\\s[A-z]+\\s\\d+\\s[^\\d\\w]+', wordIs)\n",
    "print(word3.group())"
   ]
  },
  {
   "cell_type": "code",
   "execution_count": 15,
   "id": "adc99a64",
   "metadata": {},
   "outputs": [
    {
     "name": "stdout",
     "output_type": "stream",
     "text": [
      "Tuwaiq bootcamp 2030 #$@%\n"
     ]
    }
   ],
   "source": [
    "word3 = re.search(r'[A-z]+\\s[A-z]+\\s\\d+\\s\\D+', wordIs)\n",
    "print(word3.group())"
   ]
  },
  {
   "cell_type": "markdown",
   "id": "9a4dad67",
   "metadata": {},
   "source": [
    "# 3- re.findall()\n",
    "search for “all” occurrences that match a given pattern."
   ]
  },
  {
   "cell_type": "code",
   "execution_count": null,
   "id": "a692357d",
   "metadata": {},
   "outputs": [],
   "source": []
  },
  {
   "cell_type": "code",
   "execution_count": 51,
   "id": "44db4755",
   "metadata": {},
   "outputs": [],
   "source": [
    "information = \"\"\"\n",
    "name: Mohammded\n",
    "email: abc@gmail.com\n",
    "phone: 123-324-1132\n",
    "name: Nourah\n",
    "email: def@hotmail.com\n",
    "phone: 456-635-1132\n",
    "name: Abdullah\n",
    "email: g.hi@hotmail.com\n",
    "phone: 789-644-1132\n",
    "name: Ahmed\n",
    "email: j-k_L.M@hotmail.com\n",
    "phone: 101-765-1132\n",
    "name: Rawan\n",
    "email: n99obq@hotmail.com\n",
    "phone: 111-754-1132\"\"\""
   ]
  },
  {
   "cell_type": "code",
   "execution_count": 17,
   "id": "64d71f0d",
   "metadata": {},
   "outputs": [
    {
     "name": "stdout",
     "output_type": "stream",
     "text": [
      "['Mohammded', 'Nourah', 'Abdullah', 'Ahmed', 'Rawan']\n"
     ]
    }
   ],
   "source": [
    "name = re.findall('[A-Z][a-z]+', information)\n",
    "print(name)"
   ]
  },
  {
   "cell_type": "code",
   "execution_count": 18,
   "id": "a76ec44b",
   "metadata": {},
   "outputs": [
    {
     "name": "stdout",
     "output_type": "stream",
     "text": [
      "['123-324-1132', '456-635-1132', '789-644-1132', '101-765-1132', '111-754-1132']\n"
     ]
    }
   ],
   "source": [
    "number = re.findall('\\d+-\\d+-\\d+', information)\n",
    "print(number)"
   ]
  },
  {
   "cell_type": "code",
   "execution_count": 19,
   "id": "7b24d3b7",
   "metadata": {},
   "outputs": [
    {
     "name": "stdout",
     "output_type": "stream",
     "text": [
      "['abc@gmail.com', 'def@hotmail.com', 'g.hi@hotmail.com', 'j-k_L.M@hotmail.com', 'n99obq@hotmail.com']\n"
     ]
    }
   ],
   "source": [
    "mail = re.findall('[A-Za-z0-9._%+-]+@[A-Za-z0-9.-]+.[A-z]{2,}', information)\n",
    "print(mail)"
   ]
  },
  {
   "cell_type": "markdown",
   "id": "6b0260c2",
   "metadata": {},
   "source": [
    "# 4-re.split()\n",
    "Returns a list splited by a giving pattern."
   ]
  },
  {
   "cell_type": "code",
   "execution_count": 20,
   "id": "489a65d0",
   "metadata": {},
   "outputs": [],
   "source": [
    "sentence = \"This is an amazing class\""
   ]
  },
  {
   "cell_type": "code",
   "execution_count": 21,
   "id": "6e147bb0",
   "metadata": {
    "scrolled": true
   },
   "outputs": [
    {
     "name": "stdout",
     "output_type": "stream",
     "text": [
      "['This', 'is', 'an', 'amazing', 'class']\n"
     ]
    }
   ],
   "source": [
    "split = re.split('\\s',sentence)\n",
    "print(split)"
   ]
  },
  {
   "cell_type": "code",
   "execution_count": null,
   "id": "e2a87088",
   "metadata": {},
   "outputs": [],
   "source": []
  },
  {
   "cell_type": "code",
   "execution_count": 59,
   "id": "1c8e40bf",
   "metadata": {},
   "outputs": [
    {
     "name": "stdout",
     "output_type": "stream",
     "text": [
      "['', 'name: Mohammded', 'email: abc@gmail.com', 'phone: 123-324-1132', 'name: Nourah', 'email: def@hotmail.com', 'phone: 456-635-1132', 'name: Abdullah', 'email: g.hi@hotmail.com', 'phone: 789-644-1132', 'name: Ahmed', 'email: j-k_L.M@hotmail.com', 'phone: 101-765-1132', 'name: Rawan', 'email: n99obq@hotmail.com', 'phone: 111-754-1132']\n"
     ]
    }
   ],
   "source": [
    "info = re.split(r'\\n', information)\n",
    "print(info)"
   ]
  },
  {
   "cell_type": "code",
   "execution_count": 58,
   "id": "2a1e5d16",
   "metadata": {},
   "outputs": [
    {
     "name": "stdout",
     "output_type": "stream",
     "text": [
      "['', 'Mohammded', 'abc@gmail.com', '123-324-1132', 'Nourah', 'def@hotmail.com', '456-635-1132', 'Abdullah', 'g.hi@hotmail.com', '789-644-1132', 'Ahmed', 'j-k_L.M@hotmail.com', '101-765-1132', 'Rawan', 'n99obq@hotmail.com', '111-754-1132']\n"
     ]
    }
   ],
   "source": [
    "info = re.split(r'\\n[a-z]+:\\s', information)\n",
    "print(info)"
   ]
  }
 ],
 "metadata": {
  "kernelspec": {
   "display_name": "Python 3 (ipykernel)",
   "language": "python",
   "name": "python3"
  },
  "language_info": {
   "codemirror_mode": {
    "name": "ipython",
    "version": 3
   },
   "file_extension": ".py",
   "mimetype": "text/x-python",
   "name": "python",
   "nbconvert_exporter": "python",
   "pygments_lexer": "ipython3",
   "version": "3.11.4"
  }
 },
 "nbformat": 4,
 "nbformat_minor": 5
}

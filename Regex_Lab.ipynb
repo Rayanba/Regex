{
 "cells": [
  {
   "cell_type": "markdown",
   "id": "39c23f6a",
   "metadata": {},
   "source": [
    "### import regex library "
   ]
  },
  {
   "cell_type": "code",
   "execution_count": 1,
   "id": "253b133e",
   "metadata": {},
   "outputs": [],
   "source": [
    "import re"
   ]
  },
  {
   "cell_type": "markdown",
   "id": "354d6089",
   "metadata": {},
   "source": [
    "## Q1) Matching String"
   ]
  },
  {
   "cell_type": "code",
   "execution_count": 2,
   "id": "1c5e8cb7",
   "metadata": {},
   "outputs": [],
   "source": [
    "w = \"This is year 2030\""
   ]
  },
  {
   "cell_type": "markdown",
   "id": "fa3f023b",
   "metadata": {},
   "source": [
    "**1.1 Print first word's index range in `w`**"
   ]
  },
  {
   "cell_type": "code",
   "execution_count": 3,
   "id": "8747d134",
   "metadata": {},
   "outputs": [
    {
     "data": {
      "text/plain": [
       "(0, 4)"
      ]
     },
     "execution_count": 3,
     "metadata": {},
     "output_type": "execute_result"
    }
   ],
   "source": []
  },
  {
   "cell_type": "markdown",
   "id": "b22bd9b0",
   "metadata": {},
   "source": [
    "**1.2 Print first word in `w`**"
   ]
  },
  {
   "cell_type": "code",
   "execution_count": 4,
   "id": "b041e628",
   "metadata": {
    "scrolled": false
   },
   "outputs": [
    {
     "name": "stdout",
     "output_type": "stream",
     "text": [
      "This\n"
     ]
    }
   ],
   "source": []
  },
  {
   "cell_type": "markdown",
   "id": "e0817c49",
   "metadata": {},
   "source": [
    "**1.3 Print first and second words in `w`**"
   ]
  },
  {
   "cell_type": "code",
   "execution_count": 5,
   "id": "6b24bdcc",
   "metadata": {},
   "outputs": [
    {
     "name": "stdout",
     "output_type": "stream",
     "text": [
      "This is\n"
     ]
    }
   ],
   "source": []
  },
  {
   "cell_type": "markdown",
   "id": "e36a3dfc",
   "metadata": {},
   "source": [
    "**1.4 Print third word in `w`**"
   ]
  },
  {
   "cell_type": "code",
   "execution_count": 6,
   "id": "f952e1bf",
   "metadata": {},
   "outputs": [
    {
     "name": "stdout",
     "output_type": "stream",
     "text": [
      "year\n"
     ]
    }
   ],
   "source": []
  },
  {
   "cell_type": "markdown",
   "id": "d18529b7",
   "metadata": {},
   "source": [
    "**1.5 Print all digits in `w`**"
   ]
  },
  {
   "cell_type": "code",
   "execution_count": 7,
   "id": "99e21aa8",
   "metadata": {},
   "outputs": [
    {
     "name": "stdout",
     "output_type": "stream",
     "text": [
      "2030\n"
     ]
    }
   ],
   "source": []
  },
  {
   "cell_type": "markdown",
   "id": "5f5d5acb",
   "metadata": {},
   "source": [
    "## Q2) Matching list "
   ]
  },
  {
   "cell_type": "code",
   "execution_count": 8,
   "id": "0532117e",
   "metadata": {},
   "outputs": [],
   "source": [
    "Names = [\"Ahmed\", \"mohammed\", \"Sara\", \"amani\", \"Khalid\", \"abdullah\", \"abdulellah\"]"
   ]
  },
  {
   "cell_type": "markdown",
   "id": "ce3cee3e",
   "metadata": {},
   "source": [
    "**2.1 Print names starts with capital letters in `Names`**"
   ]
  },
  {
   "cell_type": "code",
   "execution_count": 9,
   "id": "da386ff3",
   "metadata": {},
   "outputs": [
    {
     "name": "stdout",
     "output_type": "stream",
     "text": [
      "Ahmed\n",
      "Sara\n",
      "Khalid\n"
     ]
    }
   ],
   "source": []
  },
  {
   "cell_type": "markdown",
   "id": "05f1550d",
   "metadata": {},
   "source": [
    "**2.2 Print names ends with d letter in `Names`**"
   ]
  },
  {
   "cell_type": "code",
   "execution_count": 10,
   "id": "e098074f",
   "metadata": {},
   "outputs": [
    {
     "name": "stdout",
     "output_type": "stream",
     "text": [
      "Ahmed\n",
      "mohammed\n",
      "Khalid\n",
      "abd\n",
      "abd\n"
     ]
    }
   ],
   "source": []
  },
  {
   "cell_type": "markdown",
   "id": "194356f2",
   "metadata": {},
   "source": [
    "**2.3 Print names that have more than 6 letters in `Names`**"
   ]
  },
  {
   "cell_type": "code",
   "execution_count": 11,
   "id": "4f7788cd",
   "metadata": {},
   "outputs": [
    {
     "name": "stdout",
     "output_type": "stream",
     "text": [
      "mohammed\n",
      "abdullah\n",
      "abdulellah\n"
     ]
    }
   ],
   "source": []
  },
  {
   "cell_type": "markdown",
   "id": "c664f9fa",
   "metadata": {},
   "source": [
    "**2.4 Print names that have less than 6 letters in `Names`**"
   ]
  },
  {
   "cell_type": "code",
   "execution_count": 12,
   "id": "57633651",
   "metadata": {
    "scrolled": false
   },
   "outputs": [
    {
     "name": "stdout",
     "output_type": "stream",
     "text": [
      "Ahmed\n",
      "Sara\n",
      "amani\n"
     ]
    }
   ],
   "source": []
  },
  {
   "cell_type": "markdown",
   "id": "0bfc364b",
   "metadata": {},
   "source": [
    "## Q3) Find All"
   ]
  },
  {
   "cell_type": "code",
   "execution_count": 13,
   "id": "bc1f315e",
   "metadata": {},
   "outputs": [],
   "source": [
    "numberbook = \"\"\"\n",
    "name: Mohammded\n",
    "email: abc@gmail.com\n",
    "phone: +966 555 555 555\n",
    "name: Nourah\n",
    "email: -def@outlook.com\n",
    "phone: +966 666 555 777\n",
    "name: Abdullah\n",
    "email: g.hi@hotmail.com\n",
    "phone: +966 134 000 555\n",
    "name: Ahmed\n",
    "email: 6j-k_L.M@hotmail.com\n",
    "phone: +966 555 789 123\n",
    "name: Rawan\n",
    "email: n99obq@gmail.com\n",
    "phone: +967 345 888 555\n",
    "name: Haitham\n",
    "email: n99obq@gmail.com\n",
    "phone: +967 345 456 456\n",
    "name: Amani\n",
    "email: n88obq@hotmail.com\n",
    "phone: +987 123 888 999\n",
    "name: Hashim\n",
    "email: n77obq@outlook.com\n",
    "phone: +934 457 564 555\"\"\""
   ]
  },
  {
   "cell_type": "markdown",
   "id": "e137573f",
   "metadata": {},
   "source": [
    "**3.1 Print all names in `numberbook`**"
   ]
  },
  {
   "cell_type": "code",
   "execution_count": 14,
   "id": "de646d8d",
   "metadata": {
    "scrolled": true
   },
   "outputs": [
    {
     "name": "stdout",
     "output_type": "stream",
     "text": [
      "['Mohammded', 'Nourah', 'Abdullah', 'Ahmed', 'Rawan', 'Haitham', 'Amani', 'Hashim']\n"
     ]
    }
   ],
   "source": []
  },
  {
   "cell_type": "markdown",
   "id": "82e7ec34",
   "metadata": {},
   "source": [
    "**3.2 all phone numbers in `numberbook`**"
   ]
  },
  {
   "cell_type": "code",
   "execution_count": 15,
   "id": "9400253d",
   "metadata": {},
   "outputs": [
    {
     "name": "stdout",
     "output_type": "stream",
     "text": [
      "['+966 555 555 555', '+966 666 555 777', '+966 134 000 555', '+966 555 789 123', '+967 345 888 555', '+967 345 456 456', '+987 123 888 999', '+934 457 564 555']\n"
     ]
    }
   ],
   "source": []
  },
  {
   "cell_type": "markdown",
   "id": "5d024ce7",
   "metadata": {},
   "source": [
    "**3.3 all phone numbers from Saudi Arabia `numberbook`**\n",
    "- Note: starts with +966"
   ]
  },
  {
   "cell_type": "code",
   "execution_count": 16,
   "id": "2adad9dd",
   "metadata": {},
   "outputs": [
    {
     "name": "stdout",
     "output_type": "stream",
     "text": [
      "['+966 555 555 555', '+966 666 555 777', '+966 134 000 555', '+966 555 789 123']\n"
     ]
    }
   ],
   "source": []
  },
  {
   "cell_type": "markdown",
   "id": "644fc2e7",
   "metadata": {},
   "source": [
    "**3.4 print 'gamail' only emails in `numberbook`**"
   ]
  },
  {
   "cell_type": "code",
   "execution_count": 17,
   "id": "d73499ed",
   "metadata": {},
   "outputs": [
    {
     "name": "stdout",
     "output_type": "stream",
     "text": [
      "['abc@gmail.com', 'n99obq@gmail.com', 'n99obq@gmail.com']\n"
     ]
    }
   ],
   "source": []
  },
  {
   "cell_type": "markdown",
   "id": "d98461ae",
   "metadata": {},
   "source": [
    "## Q4) neighborhood Cleaning"
   ]
  },
  {
   "cell_type": "code",
   "execution_count": 18,
   "id": "a58bec52",
   "metadata": {},
   "outputs": [],
   "source": [
    "import pandas as pd"
   ]
  },
  {
   "cell_type": "code",
   "execution_count": 19,
   "id": "ad9146b7",
   "metadata": {},
   "outputs": [],
   "source": [
    "neighbor = pd.read_csv('neighborhood.csv')\n",
    "neighbor['neighbourhood'] = neighbor['neighbourhood'].str.strip()"
   ]
  },
  {
   "cell_type": "markdown",
   "id": "b919c74d",
   "metadata": {},
   "source": [
    "**4.1 print all (two letter or less) records in `neighbourhood` column**"
   ]
  },
  {
   "cell_type": "code",
   "execution_count": 20,
   "id": "1e1c0ab4",
   "metadata": {
    "scrolled": false
   },
   "outputs": [
    {
     "name": "stdout",
     "output_type": "stream",
     "text": [
      "ة\n",
      "مي\n",
      "ط\n",
      "د\n",
      "صن\n",
      "ى\n",
      "ه\n",
      "ري\n",
      "م\n",
      "اه\n",
      "ان\n",
      "ل\n",
      "رة\n",
      "ون\n",
      "مد\n",
      "ن\n",
      "مة\n",
      "وس\n",
      "فا\n",
      "ا\n",
      "اص\n"
     ]
    }
   ],
   "source": []
  },
  {
   "cell_type": "markdown",
   "id": "d3fef52e",
   "metadata": {},
   "source": [
    "**4.2 print all (Three letters) records in `neighbourhood` column**"
   ]
  },
  {
   "cell_type": "code",
   "execution_count": 21,
   "id": "c36e4be0",
   "metadata": {},
   "outputs": [
    {
     "name": "stdout",
     "output_type": "stream",
     "text": [
      "بدر\n",
      "احد\n",
      "رات\n",
      "مية\n",
      "سيه\n",
      "اني\n",
      "لبن\n",
      "سية\n",
      "ذيف\n",
      "فات\n",
      "رفه\n",
      "ويه\n"
     ]
    }
   ],
   "source": []
  },
  {
   "cell_type": "markdown",
   "id": "dca1ef85",
   "metadata": {},
   "source": [
    "**4.2 print missy (one letter in first index) records in `neighbourhood` column**"
   ]
  },
  {
   "cell_type": "code",
   "execution_count": 22,
   "id": "5d0a8ea0",
   "metadata": {},
   "outputs": [
    {
     "name": "stdout",
     "output_type": "stream",
     "text": [
      "ه بن خليفه\n",
      "ى العصامي\n",
      "ة نمار\n",
      "ى الفرضي\n",
      "ى بن مسعود\n",
      "م بن عساكر\n",
      "م قاضي\n",
      "ي الدين البغوي\n",
      "ى السديد\n",
      "ة بن خليفة الكلبي\n",
      "م بن الفرس\n",
      "ى بن عبيد\n",
      "ى بن جزلة\n",
      "ى المعلمي\n",
      "م الحريمي\n",
      "ى بن ابراهيم الطالبي\n",
      "م الكناني\n",
      "ى الأزدي\n",
      "ى الطبري\n",
      "ى الطائي\n",
      "ى السعدي\n",
      "م بن القابلة\n",
      "ى المدني\n",
      "ى المفتي\n",
      "ى بن عدى\n",
      "ى الانباري\n",
      "ى مؤذن\n",
      "ى بن اكثم\n",
      "ي بن عدي\n",
      "ى بن عبدالله\n",
      "ى بن خالد البرمكي\n",
      "ى بن البناء\n",
      "ى الواسطي\n",
      "ى الصنهاجي\n",
      "ى بن يى القرطبي\n",
      "ى بن محمد الغرناطي\n",
      "ى بن قزعة القرشي\n",
      "ى الذماري\n",
      "ى بن عبدالعزيز\n",
      "ى الجفصي\n",
      "ى بن أبي بكر\n",
      "ى الوراق\n",
      "ى الزبيدي\n",
      "ى السلمي\n",
      "ى بن القاسم\n",
      "ى الكوفي\n",
      "ى محمد الب\n",
      "ي الدين النيسابوري\n",
      "م المغربي\n",
      "ي بن محمد الغرناطي\n",
      "ى الشاذلي\n",
      "ى الطالبي\n",
      "ى - الجبيلة\n",
      "ى الطائفي\n",
      "ى بن عبدالرحمن\n",
      "ى بن إسماعيل\n",
      "ى بن قاسم\n",
      "ى الانسي\n",
      "ى التيمي\n",
      "ف العنبري\n",
      "ى الرازي\n",
      "ى بن بكير\n",
      "ى بن المقداد\n",
      "ى الغرناطي\n",
      "ى بن خلدون\n",
      "ى القفصي\n",
      "ى الأنسي\n",
      "ى محمد يى الش\n",
      "م الصديقي\n",
      "ى بن صديق\n",
      "ى بن عميرة\n",
      "ي بن خالد البرمكي\n",
      "ى التنوخي\n",
      "ى بن غيهب\n",
      "ى امان\n",
      "ى البرمكي\n",
      "م الخزرجي\n",
      "ى الانطاكي\n",
      "ي بن المبارك\n",
      "ى الغماري\n"
     ]
    }
   ],
   "source": []
  },
  {
   "cell_type": "markdown",
   "id": "eac8baa8",
   "metadata": {},
   "source": [
    "## Q5) Solve Plotly Lab 2 differently"
   ]
  },
  {
   "cell_type": "code",
   "execution_count": 23,
   "id": "7390bff5",
   "metadata": {},
   "outputs": [],
   "source": [
    "df = pd.read_csv('Genres-Spoken.csv')"
   ]
  },
  {
   "cell_type": "markdown",
   "id": "36c40dea",
   "metadata": {},
   "source": [
    "**4.1 From `df` Create Genres dataframe that hase two coulumns Genres and Frequency From `genres`**\n",
    "- Add new catagory to Genres called Others when the Frequency < 200"
   ]
  },
  {
   "cell_type": "code",
   "execution_count": 25,
   "id": "27adce3b",
   "metadata": {},
   "outputs": [
    {
     "data": {
      "text/html": [
       "<div>\n",
       "<style scoped>\n",
       "    .dataframe tbody tr th:only-of-type {\n",
       "        vertical-align: middle;\n",
       "    }\n",
       "\n",
       "    .dataframe tbody tr th {\n",
       "        vertical-align: top;\n",
       "    }\n",
       "\n",
       "    .dataframe thead th {\n",
       "        text-align: right;\n",
       "    }\n",
       "</style>\n",
       "<table border=\"1\" class=\"dataframe\">\n",
       "  <thead>\n",
       "    <tr style=\"text-align: right;\">\n",
       "      <th></th>\n",
       "      <th>Genres</th>\n",
       "      <th>Frequency</th>\n",
       "    </tr>\n",
       "  </thead>\n",
       "  <tbody>\n",
       "    <tr>\n",
       "      <th>0</th>\n",
       "      <td>Action</td>\n",
       "      <td>1156</td>\n",
       "    </tr>\n",
       "    <tr>\n",
       "      <th>1</th>\n",
       "      <td>Adventure</td>\n",
       "      <td>792</td>\n",
       "    </tr>\n",
       "    <tr>\n",
       "      <th>2</th>\n",
       "      <td>Fantasy</td>\n",
       "      <td>425</td>\n",
       "    </tr>\n",
       "    <tr>\n",
       "      <th>3</th>\n",
       "      <td>Science Fiction</td>\n",
       "      <td>538</td>\n",
       "    </tr>\n",
       "    <tr>\n",
       "      <th>4</th>\n",
       "      <td>Crime</td>\n",
       "      <td>697</td>\n",
       "    </tr>\n",
       "    <tr>\n",
       "      <th>5</th>\n",
       "      <td>Drama</td>\n",
       "      <td>2300</td>\n",
       "    </tr>\n",
       "    <tr>\n",
       "      <th>6</th>\n",
       "      <td>Thriller</td>\n",
       "      <td>1275</td>\n",
       "    </tr>\n",
       "    <tr>\n",
       "      <th>7</th>\n",
       "      <td>Animation</td>\n",
       "      <td>234</td>\n",
       "    </tr>\n",
       "    <tr>\n",
       "      <th>8</th>\n",
       "      <td>Family</td>\n",
       "      <td>514</td>\n",
       "    </tr>\n",
       "    <tr>\n",
       "      <th>9</th>\n",
       "      <td>Others</td>\n",
       "      <td>82</td>\n",
       "    </tr>\n",
       "    <tr>\n",
       "      <th>10</th>\n",
       "      <td>Comedy</td>\n",
       "      <td>1723</td>\n",
       "    </tr>\n",
       "    <tr>\n",
       "      <th>11</th>\n",
       "      <td>Romance</td>\n",
       "      <td>895</td>\n",
       "    </tr>\n",
       "    <tr>\n",
       "      <th>12</th>\n",
       "      <td>Horror</td>\n",
       "      <td>520</td>\n",
       "    </tr>\n",
       "    <tr>\n",
       "      <th>13</th>\n",
       "      <td>Mystery</td>\n",
       "      <td>348</td>\n",
       "    </tr>\n",
       "    <tr>\n",
       "      <th>14</th>\n",
       "      <td>Others</td>\n",
       "      <td>197</td>\n",
       "    </tr>\n",
       "    <tr>\n",
       "      <th>15</th>\n",
       "      <td>Others</td>\n",
       "      <td>144</td>\n",
       "    </tr>\n",
       "    <tr>\n",
       "      <th>16</th>\n",
       "      <td>Others</td>\n",
       "      <td>185</td>\n",
       "    </tr>\n",
       "    <tr>\n",
       "      <th>17</th>\n",
       "      <td>Others</td>\n",
       "      <td>110</td>\n",
       "    </tr>\n",
       "    <tr>\n",
       "      <th>18</th>\n",
       "      <td>Others</td>\n",
       "      <td>34</td>\n",
       "    </tr>\n",
       "    <tr>\n",
       "      <th>19</th>\n",
       "      <td>Others</td>\n",
       "      <td>8</td>\n",
       "    </tr>\n",
       "  </tbody>\n",
       "</table>\n",
       "</div>"
      ],
      "text/plain": [
       "             Genres  Frequency\n",
       "0            Action       1156\n",
       "1         Adventure        792\n",
       "2           Fantasy        425\n",
       "3   Science Fiction        538\n",
       "4             Crime        697\n",
       "5             Drama       2300\n",
       "6          Thriller       1275\n",
       "7         Animation        234\n",
       "8            Family        514\n",
       "9            Others         82\n",
       "10           Comedy       1723\n",
       "11          Romance        895\n",
       "12           Horror        520\n",
       "13          Mystery        348\n",
       "14           Others        197\n",
       "15           Others        144\n",
       "16           Others        185\n",
       "17           Others        110\n",
       "18           Others         34\n",
       "19           Others          8"
      ]
     },
     "execution_count": 25,
     "metadata": {},
     "output_type": "execute_result"
    }
   ],
   "source": []
  },
  {
   "cell_type": "markdown",
   "id": "c9b314c7",
   "metadata": {},
   "source": [
    "**print top 5 languages in `spoken_languages` column.**"
   ]
  },
  {
   "cell_type": "code",
   "execution_count": 27,
   "id": "b5b4f2bd",
   "metadata": {
    "scrolled": true
   },
   "outputs": [
    {
     "data": {
      "text/html": [
       "<div>\n",
       "<style scoped>\n",
       "    .dataframe tbody tr th:only-of-type {\n",
       "        vertical-align: middle;\n",
       "    }\n",
       "\n",
       "    .dataframe tbody tr th {\n",
       "        vertical-align: top;\n",
       "    }\n",
       "\n",
       "    .dataframe thead th {\n",
       "        text-align: right;\n",
       "    }\n",
       "</style>\n",
       "<table border=\"1\" class=\"dataframe\">\n",
       "  <thead>\n",
       "    <tr style=\"text-align: right;\">\n",
       "      <th></th>\n",
       "      <th>LangName</th>\n",
       "      <th>number</th>\n",
       "    </tr>\n",
       "  </thead>\n",
       "  <tbody>\n",
       "    <tr>\n",
       "      <th>0</th>\n",
       "      <td>en</td>\n",
       "      <td>4490</td>\n",
       "    </tr>\n",
       "    <tr>\n",
       "      <th>1</th>\n",
       "      <td>es</td>\n",
       "      <td>351</td>\n",
       "    </tr>\n",
       "    <tr>\n",
       "      <th>2</th>\n",
       "      <td>fr</td>\n",
       "      <td>438</td>\n",
       "    </tr>\n",
       "    <tr>\n",
       "      <th>3</th>\n",
       "      <td>it</td>\n",
       "      <td>188</td>\n",
       "    </tr>\n",
       "    <tr>\n",
       "      <th>4</th>\n",
       "      <td>de</td>\n",
       "      <td>262</td>\n",
       "    </tr>\n",
       "  </tbody>\n",
       "</table>\n",
       "</div>"
      ],
      "text/plain": [
       "  LangName  number\n",
       "0       en    4490\n",
       "1       es     351\n",
       "2       fr     438\n",
       "3       it     188\n",
       "4       de     262"
      ]
     },
     "execution_count": 27,
     "metadata": {},
     "output_type": "execute_result"
    }
   ],
   "source": []
  }
 ],
 "metadata": {
  "kernelspec": {
   "display_name": "Python 3 (ipykernel)",
   "language": "python",
   "name": "python3"
  },
  "language_info": {
   "codemirror_mode": {
    "name": "ipython",
    "version": 3
   },
   "file_extension": ".py",
   "mimetype": "text/x-python",
   "name": "python",
   "nbconvert_exporter": "python",
   "pygments_lexer": "ipython3",
   "version": "3.11.4"
  }
 },
 "nbformat": 4,
 "nbformat_minor": 5
}
